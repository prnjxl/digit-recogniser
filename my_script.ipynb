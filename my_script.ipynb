{
  "nbformat": 4,
  "nbformat_minor": 0,
  "metadata": {
    "colab": {
      "provenance": [],
      "authorship_tag": "ABX9TyOr7Ovk3N4gkkNml+Ui/5ie",
      "include_colab_link": true
    },
    "kernelspec": {
      "name": "python3",
      "display_name": "Python 3"
    },
    "language_info": {
      "name": "python"
    }
  },
  "cells": [
    {
      "cell_type": "markdown",
      "metadata": {
        "id": "view-in-github",
        "colab_type": "text"
      },
      "source": [
        "<a href=\"https://colab.research.google.com/github/prnjxl/digit-recogniser/blob/main/Workshop_Ai.ipynb\" target=\"_parent\"><img src=\"https://colab.research.google.com/assets/colab-badge.svg\" alt=\"Open In Colab\"/></a>"
      ]
    },
    {
      "cell_type": "code",
      "execution_count": null,
      "metadata": {
        "id": "0zYhJRexlLtg"
      },
      "outputs": [],
      "source": [
        "import numpy as np\n",
        "import tensorflow as tf\n",
        "import matplotlib.pyplot as plt\n",
        "from tensorflow.keras.datasets import mnist"
      ]
    },
    {
      "cell_type": "code",
      "source": [
        "(X_train, y_train), (X_test, y_test) = mnist.load_data()"
      ],
      "metadata": {
        "colab": {
          "base_uri": "https://localhost:8080/"
        },
        "id": "9QboyrDQmlHj",
        "outputId": "43d652b4-5ef8-45aa-dafc-062b5d0a70ed"
      },
      "execution_count": null,
      "outputs": [
        {
          "output_type": "stream",
          "name": "stdout",
          "text": [
            "Downloading data from https://storage.googleapis.com/tensorflow/tf-keras-datasets/mnist.npz\n",
            "\u001b[1m11490434/11490434\u001b[0m \u001b[32m━━━━━━━━━━━━━━━━━━━━\u001b[0m\u001b[37m\u001b[0m \u001b[1m0s\u001b[0m 0us/step\n"
          ]
        }
      ]
    },
    {
      "cell_type": "code",
      "source": [
        "X_train = X_train.reshape(60000, 28, 28, 1).astype('float32') / 255\n",
        "X_test  = X_test.reshape (10000, 28, 28, 1).astype('float32') / 255\n",
        "\n",
        "\n",
        "y_train = tf.keras.utils.to_categorical(y_train, 10)\n",
        "y_test  = tf.keras.utils.to_categorical(y_test, 10)"
      ],
      "metadata": {
        "id": "dZ6L4vjSnh5P"
      },
      "execution_count": null,
      "outputs": []
    },
    {
      "cell_type": "code",
      "source": [
        "plt.imshow(X_train[0], cmap='gray')\n",
        "plt.show()"
      ],
      "metadata": {
        "colab": {
          "base_uri": "https://localhost:8080/",
          "height": 430
        },
        "id": "-EE4BRs3nm5U",
        "outputId": "13239f14-58f7-44f5-8c93-700c6a5c21ff"
      },
      "execution_count": null,
      "outputs": [
        {
          "output_type": "display_data",
          "data": {
            "text/plain": [
              "<Figure size 640x480 with 1 Axes>"
            ],
            "image/png": "[encoded data removed]"
          },
          "metadata": {}
        }
      ]
    },
    {
      "cell_type": "code",
      "source": [
        "plt.imshow(X_train[0].reshape((1,784)), cmap='gray')\n",
        "plt.axis('off')\n",
        "plt.show()"
      ],
      "metadata": {
        "colab": {
          "base_uri": "https://localhost:8080/",
          "height": 37
        },
        "id": "bHVW6UuTnucD",
        "outputId": "d91e6a75-865c-4e7b-d630-b61de61fc407"
      },
      "execution_count": null,
      "outputs": [
        {
          "output_type": "display_data",
          "data": {
            "text/plain": [
              "<Figure size 640x480 with 1 Axes>"
            ],
            "image/png": "[encoded data removed]"
          },
          "metadata": {}
        }
      ]
    },
    {
      "cell_type": "markdown",
      "source": [
        "Softmax gives probability distribution of what the images is looking like out of the 10"
      ],
      "metadata": {
        "id": "-UkCBnhsqdnv"
      }
    },
    {
      "cell_type": "code",
      "source": [
        "model_ann = tf.keras.models.Sequential([\n",
        "    tf.keras.layers.Flatten(input_shape=(28, 28, 1)),\n",
        "    tf.keras.layers.Dense(128, activation='relu'),\n",
        "    tf.keras.layers.Dense(10, activation='softmax')\n",
        "])\n",
        "model_ann.compile(optimizer='adam', loss='categorical_crossentropy', metrics=['accuracy'])\n",
        "\n",
        "\n",
        "history_ann = model_ann.fit(X_train, y_train, epochs=10, validation_split=0.1)\n",
        "\n",
        "model_ann.save('model_ann.h5')"
      ],
      "metadata": {
        "colab": {
          "base_uri": "https://localhost:8080/"
        },
        "id": "kP5O4VKQnxLX",
        "outputId": "c356a804-1e91-4f89-84d4-9ffa9f648ff9"
      },
      "execution_count": null,
      "outputs": [
        {
          "output_type": "stream",
          "name": "stderr",
          "text": [
            "/usr/local/lib/python3.11/dist-packages/keras/src/layers/reshaping/flatten.py:37: UserWarning: Do not pass an `input_shape`/`input_dim` argument to a layer. When using Sequential models, prefer using an `Input(shape)` object as the first layer in the model instead.\n",
            "  super().__init__(**kwargs)\n"
          ]
        },
        {
          "output_type": "stream",
          "name": "stdout",
          "text": [
            "Epoch 1/10\n",
            "\u001b[1m1688/1688\u001b[0m \u001b[32m━━━━━━━━━━━━━━━━━━━━\u001b[0m\u001b[37m\u001b[0m \u001b[1m6s\u001b[0m 3ms/step - accuracy: 0.8693 - loss: 0.4550 - val_accuracy: 0.9630 - val_loss: 0.1312\n",
            "Epoch 2/10\n",
            "\u001b[1m1688/1688\u001b[0m \u001b[32m━━━━━━━━━━━━━━━━━━━━\u001b[0m\u001b[37m\u001b[0m \u001b[1m6s\u001b[0m 3ms/step - accuracy: 0.9609 - loss: 0.1329 - val_accuracy: 0.9750 - val_loss: 0.0932\n",
            "Epoch 3/10\n",
            "\u001b[1m1688/1688\u001b[0m \u001b[32m━━━━━━━━━━━━━━━━━━━━\u001b[0m\u001b[37m\u001b[0m \u001b[1m11s\u001b[0m 4ms/step - accuracy: 0.9769 - loss: 0.0820 - val_accuracy: 0.9763 - val_loss: 0.0859\n",
            "Epoch 4/10\n",
            "\u001b[1m1688/1688\u001b[0m \u001b[32m━━━━━━━━━━━━━━━━━━━━\u001b[0m\u001b[37m\u001b[0m \u001b[1m5s\u001b[0m 3ms/step - accuracy: 0.9814 - loss: 0.0611 - val_accuracy: 0.9735 - val_loss: 0.0953\n",
            "Epoch 5/10\n",
            "\u001b[1m1688/1688\u001b[0m \u001b[32m━━━━━━━━━━━━━━━━━━━━\u001b[0m\u001b[37m\u001b[0m \u001b[1m7s\u001b[0m 4ms/step - accuracy: 0.9861 - loss: 0.0454 - val_accuracy: 0.9773 - val_loss: 0.0802\n",
            "Epoch 6/10\n",
            "\u001b[1m1688/1688\u001b[0m \u001b[32m━━━━━━━━━━━━━━━━━━━━\u001b[0m\u001b[37m\u001b[0m \u001b[1m5s\u001b[0m 3ms/step - accuracy: 0.9893 - loss: 0.0350 - val_accuracy: 0.9790 - val_loss: 0.0769\n",
            "Epoch 7/10\n",
            "\u001b[1m1688/1688\u001b[0m \u001b[32m━━━━━━━━━━━━━━━━━━━━\u001b[0m\u001b[37m\u001b[0m \u001b[1m6s\u001b[0m 3ms/step - accuracy: 0.9921 - loss: 0.0269 - val_accuracy: 0.9812 - val_loss: 0.0756\n",
            "Epoch 8/10\n",
            "\u001b[1m1688/1688\u001b[0m \u001b[32m━━━━━━━━━━━━━━━━━━━━\u001b[0m\u001b[37m\u001b[0m \u001b[1m9s\u001b[0m 3ms/step - accuracy: 0.9939 - loss: 0.0195 - val_accuracy: 0.9772 - val_loss: 0.0893\n",
            "Epoch 9/10\n",
            "\u001b[1m1688/1688\u001b[0m \u001b[32m━━━━━━━━━━━━━━━━━━━━\u001b[0m\u001b[37m\u001b[0m \u001b[1m6s\u001b[0m 4ms/step - accuracy: 0.9952 - loss: 0.0169 - val_accuracy: 0.9773 - val_loss: 0.0889\n",
            "Epoch 10/10\n",
            "\u001b[1m1688/1688\u001b[0m \u001b[32m━━━━━━━━━━━━━━━━━━━━\u001b[0m\u001b[37m\u001b[0m \u001b[1m11s\u001b[0m 4ms/step - accuracy: 0.9950 - loss: 0.0173 - val_accuracy: 0.9810 - val_loss: 0.0810\n"
          ]
        },
        {
          "output_type": "stream",
          "name": "stderr",
          "text": [
            "WARNING:absl:You are saving your model as an HDF5 file via `model.save()` or `keras.saving.save_model(model)`. This file format is considered legacy. We recommend using instead the native Keras format, e.g. `model.save('my_model.keras')` or `keras.saving.save_model(model, 'my_model.keras')`. \n"
          ]
        }
      ]
    },
    {
      "cell_type": "code",
      "source": [
        "img = X_train[6723]\n",
        "\n",
        "plt.imshow(img, cmap='gray')\n",
        "plt.show()\n",
        "\n",
        "img = img.reshape(1, 28,28)\n",
        "\n",
        "pred = np.argmax(model_ann.predict(img))\n",
        "print(pred)"
      ],
      "metadata": {
        "colab": {
          "base_uri": "https://localhost:8080/",
          "height": 465
        },
        "id": "fu0AJRwGoPYp",
        "outputId": "a7a9c791-1f0f-4b45-ccf2-d9196188b291"
      },
      "execution_count": null,
      "outputs": [
        {
          "output_type": "display_data",
          "data": {
            "text/plain": [
              "<Figure size 640x480 with 1 Axes>"
            ],
            "image/png": "[encoded data removed]"
          },
          "metadata": {}
        },
        {
          "output_type": "stream",
          "name": "stdout",
          "text": [
            "\u001b[1m1/1\u001b[0m \u001b[32m━━━━━━━━━━━━━━━━━━━━\u001b[0m\u001b[37m\u001b[0m \u001b[1m0s\u001b[0m 66ms/step\n",
            "0\n"
          ]
        }
      ]
    },
    {
      "cell_type": "code",
      "source": [
        "import requests\n",
        "\n",
        "image_url = \"https://cdn.pixabay.com/photo/2015/04/04/19/13/two-706896_1280.jpg\"\n",
        "filename = \"image.jpg\"\n",
        "\n",
        "response = requests.get(image_url, stream=True)\n",
        "\n",
        "if response.status_code == 200:\n",
        "    with open(filename, \"wb\") as f:\n",
        "        for chunk in response.iter_content(1024):\n",
        "            f.write(chunk)\n",
        "\n",
        "    print(f\"Image downloaded successfully as {filename}\")"
      ],
      "metadata": {
        "colab": {
          "base_uri": "https://localhost:8080/"
        },
        "id": "pTR6wkDkpEvF",
        "outputId": "5c73497b-c571-4cbf-d043-76324faca85f"
      },
      "execution_count": null,
      "outputs": [
        {
          "output_type": "stream",
          "name": "stdout",
          "text": [
            "Image downloaded successfully as image.jpg\n"
          ]
        }
      ]
    },
    {
      "cell_type": "code",
      "source": [
        "import cv2\n",
        "\n",
        "# Load the image\n",
        "img = cv2.imread('image.jpg')\n",
        "\n",
        "resized_img = cv2.resize(img, (28, 28), interpolation=cv2.INTER_LINEAR)\n",
        "resized_img = cv2.cvtColor(resized_img, cv2.COLOR_BGR2GRAY)\n",
        "\n",
        "resized_img"
      ],
      "metadata": {
        "colab": {
          "base_uri": "https://localhost:8080/",
          "height": 68
        },
        "id": "VOHSMtKaw4KM",
        "outputId": "d930869a-cf1c-4233-d4c4-bc7278c3dd14"
      },
      "execution_count": null,
      "outputs": [
        {
          "output_type": "execute_result",
          "data": {
            "text/plain": [
              "array([[255, 255, 255, 255, 255, 255, 255, 255, 255, 255, 255, 255, 255,\n",
              "        255, 255, 255, 255, 255, 255, 255, 255, 255, 255, 255, 255, 255,\n",
              "        255, 255],\n",
              "       [255, 255, 255, 255, 255, 255, 255, 255, 255, 255, 255, 255, 255,\n",
              "        255, 255, 255, 255, 255, 255, 255, 255, 255, 255, 255, 255, 255,\n",
              "        255, 255],\n",
              "       [255, 255, 255, 255, 255, 255, 255, 255, 255, 255, 255, 255, 255,\n",
              "        255, 255, 255, 255, 255, 255, 255, 255, 255, 255, 255, 255, 255,\n",
              "        255, 255],\n",
              "       [255, 255, 255, 255, 255, 255, 255, 255, 255, 255, 254,  79, 131,\n",
              "        126,  66, 252, 255, 255, 255, 255, 255, 255, 255, 255, 255, 255,\n",
              "        255, 255],\n",
              "       [255, 255, 255, 255, 255, 255, 255, 255, 254, 149,  41, 158, 159,\n",
              "        159, 158,  68, 115,  62, 220, 255, 255, 255, 255, 255, 255, 255,\n",
              "        255, 255],\n",
              "       [255, 255, 255, 255, 255, 255, 255, 254,  49, 159, 159, 159, 159,\n",
              "        159, 159, 159, 158, 131, 114,  99, 253, 255, 255, 255, 255, 255,\n",
              "        255, 255],\n",
              "       [255, 255, 255, 255, 255, 255, 255,  65, 159, 159, 159, 159, 159,\n",
              "        159, 159, 159, 159, 159,  46, 135, 133, 252, 255, 255, 255, 255,\n",
              "        255, 255],\n",
              "       [255, 255, 255, 255, 255, 255, 141, 159, 159, 159,  93, 151, 144,\n",
              "         91, 159, 159, 159, 159, 196,  99, 108, 118, 255, 255, 255, 255,\n",
              "        255, 255],\n",
              "       [255, 255, 255, 255, 255, 255,  67, 159, 159, 158,  36,  28,  26,\n",
              "         22,  52, 159, 159, 159,  73,  61,  65,  71, 255, 255, 255, 255,\n",
              "        255, 255],\n",
              "       [255, 255, 255, 255, 255, 255, 157, 159, 159, 158,  33,  33,  32,\n",
              "         32, 181, 159, 159, 159, 159,  52,  54,  55, 255, 255, 255, 255,\n",
              "        255, 255],\n",
              "       [255, 255, 255, 255, 255, 250, 103, 110, 159,  46,  45,  44,  43,\n",
              "        253, 180, 159, 159, 159, 158,  48,  52,  52, 252, 255, 255, 255,\n",
              "        255, 255],\n",
              "       [255, 255, 255, 255, 255, 255, 255, 253,  75,  24,  51,  51,  51,\n",
              "        255,  52, 159, 159, 159, 119,  47,  48,  48, 255, 255, 255, 255,\n",
              "        255, 255],\n",
              "       [255, 255, 255, 255, 255, 255, 255, 255, 255, 255, 255, 255, 255,\n",
              "        208, 157, 159, 159, 159, 161,  38,  39,  39, 255, 255, 255, 255,\n",
              "        255, 255],\n",
              "       [255, 255, 255, 255, 255, 255, 255, 255, 255, 255, 255, 255,  62,\n",
              "         31, 159, 159, 159, 157,  36,  32,  32,  33, 255, 255, 255, 255,\n",
              "        255, 255],\n",
              "       [255, 255, 255, 255, 255, 255, 255, 255, 255, 255, 255, 201,  44,\n",
              "        159, 159, 159, 159, 115,  31,  31,  31, 255, 255, 255, 255, 255,\n",
              "        255, 255],\n",
              "       [255, 255, 255, 255, 255, 255, 255, 255, 255, 255,  56,  46, 159,\n",
              "        159, 159, 158, 162,  30,  30,  30, 255, 255, 255, 255, 255, 255,\n",
              "        255, 255],\n",
              "       [255, 255, 255, 255, 255, 255, 255, 255, 255, 105,  42, 159, 159,\n",
              "        159, 159, 140,  28,  28,  28, 255, 255, 255, 255, 255, 255, 255,\n",
              "        255, 255],\n",
              "       [255, 255, 255, 255, 255, 255, 255, 255, 188, 158, 159, 159, 159,\n",
              "        154,  83,  28,  28,  27, 254, 255, 255, 255, 255, 255, 255, 255,\n",
              "        255, 255],\n",
              "       [255, 255, 255, 255, 255, 255, 255, 173, 164, 159, 159, 159, 171,\n",
              "         47,  27,  27, 242, 255, 255, 255, 255, 255, 255, 255, 255, 255,\n",
              "        255, 255],\n",
              "       [255, 255, 255, 255, 255, 253, 111, 159, 159, 159, 159, 142,  25,\n",
              "         45,  46,  46,  46,  47,  46,  47,  46,  47,  50, 255, 255, 255,\n",
              "        255, 255],\n",
              "       [255, 255, 255, 255, 255, 249, 159, 159, 159, 157, 125,  53,  55,\n",
              "         72,  94, 120, 134, 149, 157,  46,  51,  51,  50, 255, 255, 255,\n",
              "        255, 255],\n",
              "       [255, 255, 255, 255, 255, 249, 159, 159, 159, 159, 159, 159, 159,\n",
              "        159, 159, 159, 159, 159, 159,  40,  51,  51,  45, 255, 255, 255,\n",
              "        255, 255],\n",
              "       [255, 255, 255, 255, 255, 249, 159, 159, 159, 159, 159, 159, 159,\n",
              "        159, 159, 159, 159, 159, 159,  25,  51,  51, 252, 255, 255, 255,\n",
              "        255, 255],\n",
              "       [255, 255, 255, 255, 255, 248,  89,  56,  70, 161, 158, 159, 159,\n",
              "        159, 159, 159, 159, 159, 159,  49,  51,  51, 255, 255, 255, 255,\n",
              "        255, 255],\n",
              "       [255, 255, 255, 255, 255, 255, 255, 255, 254, 248,  56,  73, 112,\n",
              "        142, 157, 158, 141, 107,  67,  51,  51,  51, 255, 255, 255, 255,\n",
              "        255, 255],\n",
              "       [255, 255, 255, 255, 255, 255, 255, 255, 255, 255, 255, 255, 255,\n",
              "        255, 255, 255, 255, 254, 253, 253, 255, 255, 255, 255, 255, 255,\n",
              "        255, 255],\n",
              "       [255, 255, 255, 255, 255, 255, 255, 255, 255, 255, 255, 255, 255,\n",
              "        255, 255, 255, 255, 255, 255, 255, 255, 255, 255, 255, 255, 255,\n",
              "        255, 255],\n",
              "       [255, 255, 255, 255, 255, 255, 255, 255, 255, 255, 255, 255, 255,\n",
              "        255, 255, 255, 255, 255, 255, 255, 255, 255, 255, 255, 255, 255,\n",
              "        255, 255]], dtype=uint8)"
            ],
            "text/html": [
              "<style>\n",
              "      .ndarray_repr .ndarray_raw_data {\n",
              "        display: none;\n",
              "      }\n",
              "      .ndarray_repr.show_array .ndarray_raw_data {\n",
              "        display: block;\n",
              "      }\n",
              "      .ndarray_repr.show_array .ndarray_image_preview {\n",
              "        display: none;\n",
              "      }\n",
              "      </style>\n",
              "      <div id=\"id-5e0138b3-bffa-476d-9c41-c834a453d23c\" class=\"ndarray_repr\"><pre>ndarray (28, 28) <button style=\"padding: 0 2px;\">show data</button></pre><img src=\"data:image/png;base64,iVBORw0KGgoAAAANSUhEUgAAABwAAAAcCAAAAABXZoBIAAABaElEQVR4nH2SyytEYRjGf9+ZGclgUpKQBcqSYmNF2ZONBfIHjJoF2VgRSilRQhaWNspSTC4bJbdkgymMS1KSMXKdM+e8FuZyzpnMu3r7ft/zPc/79inh/9KysOzQnW6lo1HfDbosUCU9ZX52UCHLdYdL1U4oDYFE8xCJLmp2z9ZA8nbFZs2EYYNTvbD9Hd0EmLt8HLIFWutB9nbMeKgPxt/dOTZlF2B4cvJGgM6vj1cr1A9OmM73eq8EkLhpGJZnPQtm21M5aMN9EJI4LvucAJwea6CNKy5sowDQ3K6BORr7iWWsj4OXYeBMh3AGbPocAHGvwC1O6H8bBF6m4T55lAq0dadA39hH7hUO5eqXgvyxZ84L0kZ/SrO/HohMFitQokS5jtPKeD2YN+uVRSVlhb7cGQ/iCKRV+RNdzIOeuYREReHEopRguLDbSKYsxblbibUU1Vb6VOT64hWO7DBVIimvTGiprJ/6FwCBflpMh1xRAAAAAElFTkSuQmCC\" class=\"ndarray_image_preview\" /><pre class=\"ndarray_raw_data\">array([[255, 255, 255, 255, 255, 255, 255, 255, 255, 255, 255, 255, 255,\n",
              "        255, 255, 255, 255, 255, 255, 255, 255, 255, 255, 255, 255, 255,\n",
              "        255, 255],\n",
              "       [255, 255, 255, 255, 255, 255, 255, 255, 255, 255, 255, 255, 255,\n",
              "        255, 255, 255, 255, 255, 255, 255, 255, 255, 255, 255, 255, 255,\n",
              "        255, 255],\n",
              "       [255, 255, 255, 255, 255, 255, 255, 255, 255, 255, 255, 255, 255,\n",
              "        255, 255, 255, 255, 255, 255, 255, 255, 255, 255, 255, 255, 255,\n",
              "        255, 255],\n",
              "       [255, 255, 255, 255, 255, 255, 255, 255, 255, 255, 254,  79, 131,\n",
              "        126,  66, 252, 255, 255, 255, 255, 255, 255, 255, 255, 255, 255,\n",
              "        255, 255],\n",
              "       [255, 255, 255, 255, 255, 255, 255, 255, 254, 149,  41, 158, 159,\n",
              "        159, 158,  68, 115,  62, 220, 255, 255, 255, 255, 255, 255, 255,\n",
              "        255, 255],\n",
              "       [255, 255, 255, 255, 255, 255, 255, 254,  49, 159, 159, 159, 159,\n",
              "        159, 159, 159, 158, 131, 114,  99, 253, 255, 255, 255, 255, 255,\n",
              "        255, 255],\n",
              "       [255, 255, 255, 255, 255, 255, 255,  65, 159, 159, 159, 159, 159,\n",
              "        159, 159, 159, 159, 159,  46, 135, 133, 252, 255, 255, 255, 255,\n",
              "        255, 255],\n",
              "       [255, 255, 255, 255, 255, 255, 141, 159, 159, 159,  93, 151, 144,\n",
              "         91, 159, 159, 159, 159, 196,  99, 108, 118, 255, 255, 255, 255,\n",
              "        255, 255],\n",
              "       [255, 255, 255, 255, 255, 255,  67, 159, 159, 158,  36,  28,  26,\n",
              "         22,  52, 159, 159, 159,  73,  61,  65,  71, 255, 255, 255, 255,\n",
              "        255, 255],\n",
              "       [255, 255, 255, 255, 255, 255, 157, 159, 159, 158,  33,  33,  32,\n",
              "         32, 181, 159, 159, 159, 159,  52,  54,  55, 255, 255, 255, 255,\n",
              "        255, 255],\n",
              "       [255, 255, 255, 255, 255, 250, 103, 110, 159,  46,  45,  44,  43,\n",
              "        253, 180, 159, 159, 159, 158,  48,  52,  52, 252, 255, 255, 255,\n",
              "        255, 255],\n",
              "       [255, 255, 255, 255, 255, 255, 255, 253,  75,  24,  51,  51,  51,\n",
              "        255,  52, 159, 159, 159, 119,  47,  48,  48, 255, 255, 255, 255,\n",
              "        255, 255],\n",
              "       [255, 255, 255, 255, 255, 255, 255, 255, 255, 255, 255, 255, 255,\n",
              "        208, 157, 159, 159, 159, 161,  38,  39,  39, 255, 255, 255, 255,\n",
              "        255, 255],\n",
              "       [255, 255, 255, 255, 255, 255, 255, 255, 255, 255, 255, 255,  62,\n",
              "         31, 159, 159, 159, 157,  36,  32,  32,  33, 255, 255, 255, 255,\n",
              "        255, 255],\n",
              "       [255, 255, 255, 255, 255, 255, 255, 255, 255, 255, 255, 201,  44,\n",
              "        159, 159, 159, 159, 115,  31,  31,  31, 255, 255, 255, 255, 255,\n",
              "        255, 255],\n",
              "       [255, 255, 255, 255, 255, 255, 255, 255, 255, 255,  56,  46, 159,\n",
              "        159, 159, 158, 162,  30,  30,  30, 255, 255, 255, 255, 255, 255,\n",
              "        255, 255],\n",
              "       [255, 255, 255, 255, 255, 255, 255, 255, 255, 105,  42, 159, 159,\n",
              "        159, 159, 140,  28,  28,  28, 255, 255, 255, 255, 255, 255, 255,\n",
              "        255, 255],\n",
              "       [255, 255, 255, 255, 255, 255, 255, 255, 188, 158, 159, 159, 159,\n",
              "        154,  83,  28,  28,  27, 254, 255, 255, 255, 255, 255, 255, 255,\n",
              "        255, 255],\n",
              "       [255, 255, 255, 255, 255, 255, 255, 173, 164, 159, 159, 159, 171,\n",
              "         47,  27,  27, 242, 255, 255, 255, 255, 255, 255, 255, 255, 255,\n",
              "        255, 255],\n",
              "       [255, 255, 255, 255, 255, 253, 111, 159, 159, 159, 159, 142,  25,\n",
              "         45,  46,  46,  46,  47,  46,  47,  46,  47,  50, 255, 255, 255,\n",
              "        255, 255],\n",
              "       [255, 255, 255, 255, 255, 249, 159, 159, 159, 157, 125,  53,  55,\n",
              "         72,  94, 120, 134, 149, 157,  46,  51,  51,  50, 255, 255, 255,\n",
              "        255, 255],\n",
              "       [255, 255, 255, 255, 255, 249, 159, 159, 159, 159, 159, 159, 159,\n",
              "        159, 159, 159, 159, 159, 159,  40,  51,  51,  45, 255, 255, 255,\n",
              "        255, 255],\n",
              "       [255, 255, 255, 255, 255, 249, 159, 159, 159, 159, 159, 159, 159,\n",
              "        159, 159, 159, 159, 159, 159,  25,  51,  51, 252, 255, 255, 255,\n",
              "        255, 255],\n",
              "       [255, 255, 255, 255, 255, 248,  89,  56,  70, 161, 158, 159, 159,\n",
              "        159, 159, 159, 159, 159, 159,  49,  51,  51, 255, 255, 255, 255,\n",
              "        255, 255],\n",
              "       [255, 255, 255, 255, 255, 255, 255, 255, 254, 248,  56,  73, 112,\n",
              "        142, 157, 158, 141, 107,  67,  51,  51,  51, 255, 255, 255, 255,\n",
              "        255, 255],\n",
              "       [255, 255, 255, 255, 255, 255, 255, 255, 255, 255, 255, 255, 255,\n",
              "        255, 255, 255, 255, 254, 253, 253, 255, 255, 255, 255, 255, 255,\n",
              "        255, 255],\n",
              "       [255, 255, 255, 255, 255, 255, 255, 255, 255, 255, 255, 255, 255,\n",
              "        255, 255, 255, 255, 255, 255, 255, 255, 255, 255, 255, 255, 255,\n",
              "        255, 255],\n",
              "       [255, 255, 255, 255, 255, 255, 255, 255, 255, 255, 255, 255, 255,\n",
              "        255, 255, 255, 255, 255, 255, 255, 255, 255, 255, 255, 255, 255,\n",
              "        255, 255]], dtype=uint8)</pre></div><script>\n",
              "      (() => {\n",
              "      const titles = ['show data', 'hide data'];\n",
              "      let index = 0\n",
              "      document.querySelector('#id-5e0138b3-bffa-476d-9c41-c834a453d23c button').onclick = (e) => {\n",
              "        document.querySelector('#id-5e0138b3-bffa-476d-9c41-c834a453d23c').classList.toggle('show_array');\n",
              "        index = (++index) % 2;\n",
              "        document.querySelector('#id-5e0138b3-bffa-476d-9c41-c834a453d23c button').textContent = titles[index];\n",
              "        e.preventDefault();\n",
              "        e.stopPropagation();\n",
              "      }\n",
              "      })();\n",
              "    </script>"
            ]
          },
          "metadata": {},
          "execution_count": 11
        }
      ]
    },
    {
      "cell_type": "code",
      "source": [
        "import matplotlib.pyplot as plt\n",
        "\n",
        "img = resized_img/255.\n",
        "\n",
        "plt.imshow(img, cmap='gray')\n",
        "plt.show()\n",
        "\n",
        "print(np.argmax(model_ann.predict(resized_img.reshape(1, 28, 28))))"
      ],
      "metadata": {
        "colab": {
          "base_uri": "https://localhost:8080/",
          "height": 465
        },
        "id": "Qo3V9d6PxGgA",
        "outputId": "181379b9-40f1-4c9d-ff5f-3cf91a0d4672"
      },
      "execution_count": null,
      "outputs": [
        {
          "output_type": "display_data",
          "data": {
            "text/plain": [
              "<Figure size 640x480 with 1 Axes>"
            ],
            "image/png": "[encoded data removed]"
          },
          "metadata": {}
        },
        {
          "output_type": "stream",
          "name": "stdout",
          "text": [
            "\u001b[1m1/1\u001b[0m \u001b[32m━━━━━━━━━━━━━━━━━━━━\u001b[0m\u001b[37m\u001b[0m \u001b[1m0s\u001b[0m 64ms/step\n",
            "5\n"
          ]
        }
      ]
    },
    {
      "cell_type": "code",
      "source": [
        "img = 1. - img\n",
        "\n",
        "plt.imshow(img, cmap='gray')\n",
        "plt.show()\n",
        "\n",
        "print(np.argmax(model_ann.predict(img.reshape(1, 28, 28))))"
      ],
      "metadata": {
        "colab": {
          "base_uri": "https://localhost:8080/",
          "height": 465
        },
        "id": "tP-TycYPxXBl",
        "outputId": "cfffb701-0555-4639-c939-3bc4522ec4d1"
      },
      "execution_count": null,
      "outputs": [
        {
          "output_type": "display_data",
          "data": {
            "text/plain": [
              "<Figure size 640x480 with 1 Axes>"
            ],
            "image/png": "[encoded data removed]"
          },
          "metadata": {}
        },
        {
          "output_type": "stream",
          "name": "stdout",
          "text": [
            "\u001b[1m1/1\u001b[0m \u001b[32m━━━━━━━━━━━━━━━━━━━━\u001b[0m\u001b[37m\u001b[0m \u001b[1m0s\u001b[0m 31ms/step\n",
            "2\n"
          ]
        }
      ]
    },
    {
      "cell_type": "code",
      "source": [
        "model_ann.evaluate(X_test, y_test)"
      ],
      "metadata": {
        "colab": {
          "base_uri": "https://localhost:8080/"
        },
        "id": "IBAzrXjWyuIJ",
        "outputId": "54112084-0639-4384-de9c-6fc996a34d84"
      },
      "execution_count": null,
      "outputs": [
        {
          "output_type": "stream",
          "name": "stdout",
          "text": [
            "\u001b[1m313/313\u001b[0m \u001b[32m━━━━━━━━━━━━━━━━━━━━\u001b[0m\u001b[37m\u001b[0m \u001b[1m1s\u001b[0m 2ms/step - accuracy: 0.9759 - loss: 0.0906\n"
          ]
        },
        {
          "output_type": "execute_result",
          "data": {
            "text/plain": [
              "[0.0795770138502121, 0.979200005531311]"
            ]
          },
          "metadata": {},
          "execution_count": 14
        }
      ]
    }
  ]
}
